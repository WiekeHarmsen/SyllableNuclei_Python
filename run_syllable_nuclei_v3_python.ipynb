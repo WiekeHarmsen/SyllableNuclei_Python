{
 "cells": [
  {
   "cell_type": "markdown",
   "metadata": {},
   "source": [
    "# SyllableNuclei_v3 in Python  \n",
    "This script runs the Praat Script SyllableNuclei_v3.praat (with extension FilledPauses.praat) from Python"
   ]
  },
  {
   "cell_type": "code",
   "execution_count": 5,
   "metadata": {},
   "outputs": [],
   "source": [
    "import parselmouth\n",
    "from parselmouth.praat import call, run_file"
   ]
  },
  {
   "cell_type": "markdown",
   "metadata": {},
   "source": [
    "This is how the parameter settings of the original praat script look like.\n",
    "Output: SyllableNuclei_dutch\n",
    "\n",
    "![alt text for screen readers](praat_syllable_nuclei_interface.png \"Text to show on mouseover\")"
   ]
  },
  {
   "cell_type": "code",
   "execution_count": 8,
   "metadata": {},
   "outputs": [
    {
     "name": "stdout",
     "output_type": "stream",
     "text": [
      "./input/*.wav\n"
     ]
    }
   ],
   "source": [
    "try:\n",
    "    run_file('./SyllableNucleiv3.praat', './input/*.wav', 'None', -25, 2, 0.3, True, 'Dutch', 1, 'TextGrid(s) only', 'OverWriteData', True)\n",
    "except Exception as e:\n",
    "    print(f'Error encountered: {e}')"
   ]
  },
  {
   "cell_type": "code",
   "execution_count": null,
   "metadata": {},
   "outputs": [],
   "source": []
  }
 ],
 "metadata": {
  "kernelspec": {
   "display_name": "virenv-wav2vec2",
   "language": "python",
   "name": "python3"
  },
  "language_info": {
   "codemirror_mode": {
    "name": "ipython",
    "version": 3
   },
   "file_extension": ".py",
   "mimetype": "text/x-python",
   "name": "python",
   "nbconvert_exporter": "python",
   "pygments_lexer": "ipython3",
   "version": "3.8.10"
  }
 },
 "nbformat": 4,
 "nbformat_minor": 2
}
